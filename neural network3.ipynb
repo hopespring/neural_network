{
 "cells": [
  {
   "cell_type": "code",
   "execution_count": 1,
   "metadata": {},
   "outputs": [],
   "source": [
    "# 3계층의 신경망으로 MNIST 데이터를 학습하는 코드\n",
    "\n",
    "import numpy\n",
    "# 시그모이드 함수 expit() 사용을 위해 scipy.special 불러오기\n",
    "import scipy.special\n",
    "# 행렬을 시각화하기 위한 라이브러리\n",
    "import matplotlib.pyplot\n",
    "# 시각화가 외부 윈도우가 아닌 현재의 노트북 내에서 보이도록 설정\n",
    "%matplotlib inline"
   ]
  },
  {
   "cell_type": "code",
   "execution_count": 2,
   "metadata": {},
   "outputs": [],
   "source": [
    "# 신경망 클래스의 정의\n",
    "class neuralNetwork:\n",
    "    \n",
    "    # 신경망 초기화하기\n",
    "    def __init__(self, inputnodes, hiddennodes, outputnodes, learningrate):\n",
    "        \n",
    "        # 입력, 은닉, 출력 계층의 노드 개수 설정\n",
    "        self.inodes = inputnodes\n",
    "        self.hnodes = hiddennodes\n",
    "        self.onodes = outputnodes\n",
    "        pass\n",
    "    \n",
    "        # 가중치 행렬 wih와 who\n",
    "        # 배열 내 가중치는 w_i_j로 표기. 노드 i에서 다음 계층의 노드 j로 연결됨을 의미\n",
    "        # w11 w21\n",
    "        # w12 w22 등\n",
    "        self.wih = numpy.random.normal(0.0, pow(self.hnodes, -0.5), (self.hnodes, self.inodes))\n",
    "        self.who = numpy.random.normal(0.0, pow(self.onodes, -0.5), (self.onodes, self.hnodes))\n",
    "    \n",
    "        # 학습률\n",
    "        self.lr = learningrate\n",
    "                    \n",
    "        # 활성화 함수로는 시그모이드 함수를 이용\n",
    "        self.activation_function = lambda x: scipy.special.expit(x)\n",
    "        \n",
    "        pass\n",
    "        \n",
    "        \n",
    "    # 신경망 학습시키기\n",
    "    def train(self, inputs_list, targets_list):\n",
    "        \n",
    "        # 입력 리스트를 2차원 행렬로 변환\n",
    "        inputs = numpy.array(inputs_list, ndmin = 2).T\n",
    "        targets = numpy.array(targets_list, ndmin = 2).T\n",
    "                    \n",
    "        # 은닉 계층으로 들어오는 신호를 계산\n",
    "        hidden_inputs = numpy.dot(self.wih, inputs)\n",
    "        # 은닉 계층에서 나가는 신호를 계산\n",
    "        hidden_outputs = self.activation_function(hidden_inputs)\n",
    "        # 최종 출력 계층으로 들어오는 신호를 계산\n",
    "        final_inputs = numpy.dot(self.who, hidden_outputs)\n",
    "        # 최종 출력 계층에서 나가는 신호를 계산\n",
    "        final_outputs = self.activation_function(final_inputs)\n",
    "        \n",
    "        # 오차는 (실제값 - 계산 값)\n",
    "        output_errors = targets - final_outputs\n",
    "        # 은닉 계층의 오차는 가중치에 의해 나뉜 출력 계층의 오차들을 재조합해 계산\n",
    "        hidden_errors = numpy.dot(self.who.T, output_errors)\n",
    "        \n",
    "        # 은닉 계층과 출력 계층 간의 가중치 업데이트\n",
    "        self.who += self.lr * numpy.dot((output_errors * final_outputs * (1.0 - final_outputs)), numpy.transpose(hidden_outputs))\n",
    "        self.wih += self.lr * numpy.dot((hidden_errors * hidden_outputs * (1.0 - hidden_outputs)), numpy.transpose(inputs))\n",
    "     \n",
    "    \n",
    "        pass\n",
    "    \n",
    "    \n",
    "    # 신경망에 질의하기\n",
    "    def query(self, inputs_list):\n",
    "        \n",
    "        # 입력 리스트를 2차원 행렬로 변환\n",
    "        inputs = numpy.array(inputs_list, ndmin = 2).T\n",
    "                    \n",
    "        # 은닉 계층으로 들어오는 신호를 계산\n",
    "        hidden_inputs = numpy.dot(self.wih, inputs)\n",
    "        # 은닉 계층에서 나가는 신호를 계산\n",
    "        hidden_outputs = self.activation_function(hidden_inputs)\n",
    "        # 최종 출력 계층으로 들어오는 신호를 계산\n",
    "        final_inputs = numpy.dot(self.who, hidden_outputs)\n",
    "        # 최종 출력 계층에서 나가는 신호를 계산\n",
    "        final_outputs = self.activation_function(final_inputs)\n",
    "        \n",
    "        return final_outputs\n",
    "    "
   ]
  },
  {
   "cell_type": "code",
   "execution_count": 3,
   "metadata": {},
   "outputs": [],
   "source": [
    "# 입력, 은닉, 출력 노드의 수\n",
    "input_nodes = 784\n",
    "hidden_nodes = 300\n",
    "output_nodes = 10\n",
    "\n",
    "# 학습률은 0.3으로 정의\n",
    "learning_rate = 0.2\n",
    "\n",
    "# 신경망의 인스턴스를 생성\n",
    "n = neuralNetwork(input_nodes, hidden_nodes, output_nodes, learning_rate)"
   ]
  },
  {
   "cell_type": "code",
   "execution_count": null,
   "metadata": {},
   "outputs": [],
   "source": [
    "# mnist 학습 데이터인 csv 파일을 리스트로 불러오기\n",
    "\n",
    "training_data_file = open(\"mnist_dataset/mnist_train.csv\",'r')\n",
    "training_data_list = training_data_file.readlines()\n",
    "training_data_file.close()\n",
    "\n",
    "# 신경망 학습시키기\n",
    "\n",
    "# 주기(epoch)란 학습 데이터가 학습을 위해 사용되는 횟수를 의미\n",
    "epochs = 1\n",
    "\n",
    "for e in range(epochs):\n",
    "    # 학습 데이터 모음 내의 모든 레코드 검색\n",
    "    for record in training_data_list:\n",
    "        # 레코드를 쉼표에 의해 분리\n",
    "        all_values = record.split(',')\n",
    "        # 입력 값의 범위와 값 조정\n",
    "        inputs = (numpy.asfarray(all_values[1:]) / 255.0 * 0.99) + 0.01\n",
    "        # 결과 값 생성 (실제 값인 0.99 외에는 모두 0.01)\n",
    "        targets = numpy.zeros(output_nodes) + 0.01\n",
    "        # all_values[0]은 이 레코드에 대한 결과 값\n",
    "        targets[int(all_values[0])] = 0.99\n",
    "\n",
    "        n.train(inputs, targets)\n",
    "    \n",
    "    pass"
   ]
  },
  {
   "cell_type": "code",
   "execution_count": null,
   "metadata": {},
   "outputs": [],
   "source": [
    "# mnist 테스트 데이터인 csv 파일을 리스트로 불러오기\n",
    "\n",
    "test_data_file = open(\"mnist_dataset/mnist_test.csv\",'r')\n",
    "test_data_list = test_data_file.readlines()\n",
    "test_data_file.close()"
   ]
  },
  {
   "cell_type": "code",
   "execution_count": null,
   "metadata": {},
   "outputs": [],
   "source": [
    "# get the first test record\n",
    "all_values = test_data_list[777].split(',')\n",
    "# print the label\n",
    "print(all_values[0])"
   ]
  },
  {
   "cell_type": "code",
   "execution_count": null,
   "metadata": {},
   "outputs": [],
   "source": [
    "image_array = numpy.asfarray(all_values[1:]).reshape((28,28))\n",
    "matplotlib.pyplot.imshow(image_array, cmap='Greys', interpolation='None')"
   ]
  },
  {
   "cell_type": "code",
   "execution_count": null,
   "metadata": {},
   "outputs": [],
   "source": [
    "# scale input to range 0.01 to 1.00\n",
    "n.query((numpy.asfarray(all_values[1:]) / 255.0 * 0.99) + 0.01)"
   ]
  },
  {
   "cell_type": "code",
   "execution_count": null,
   "metadata": {},
   "outputs": [],
   "source": [
    "# 신경망테스트\n",
    "\n",
    "# 신경망의 성능의 지표가 되는 성적표를 아무 값도 가지지 않도록 초기화\n",
    "scorecard = []\n",
    "\n",
    "# 테스트 데이터 모음 내의 모든 레코드 탐색\n",
    "for record in test_data_list:\n",
    "    # 레코드를 쉼표에 의해 분리\n",
    "    all_values = record.split(',')\n",
    "    # 정답은 첫 번째 값\n",
    "    correct_label = int(all_values[0])\n",
    "    print(correct_label, \"correct label\")\n",
    "    #입력 값의 범위와 값 조정\n",
    "    inputs = (numpy.asfarray(all_values[1:]) / 255.0 * 0.99) + 0.01\n",
    "    # 신경망에 질의\n",
    "    outpus = n.query(inputs)\n",
    "    # 가장 높은 값의 인덱스는 레이블의 인덱스와 일치\n",
    "    label = numpy.argmax(outpus)\n",
    "    print(label, \"network's answer\")\n",
    "    \n",
    "    # 정답 또는 오답을 리스트에 추가\n",
    "    if(label == correct_label):\n",
    "        # 정답인 경우 성적표에 1을 더함\n",
    "        scorecard.append(1)\n",
    "    \n",
    "    else:\n",
    "        # 정답이 아인 경우 성적표에 0을 더함\n",
    "        scorecard.append(0)\n",
    "        \n",
    "        pass\n",
    "    \n",
    "    pass\n",
    "        "
   ]
  },
  {
   "cell_type": "code",
   "execution_count": null,
   "metadata": {},
   "outputs": [],
   "source": [
    "print(scorecard)"
   ]
  },
  {
   "cell_type": "code",
   "execution_count": null,
   "metadata": {},
   "outputs": [],
   "source": [
    "# calculate the performance score, the fraction of correct answers\n",
    "scorecard_array = numpy.asarray(scorecard)\n",
    "print(\"performance = \", scorecard_array.sum() / scorecard_array.size)"
   ]
  },
  {
   "cell_type": "code",
   "execution_count": null,
   "metadata": {},
   "outputs": [],
   "source": []
  }
 ],
 "metadata": {
  "kernelspec": {
   "display_name": "Python 3",
   "language": "python",
   "name": "python3"
  },
  "language_info": {
   "codemirror_mode": {
    "name": "ipython",
    "version": 3
   },
   "file_extension": ".py",
   "mimetype": "text/x-python",
   "name": "python",
   "nbconvert_exporter": "python",
   "pygments_lexer": "ipython3",
   "version": "3.7.4"
  }
 },
 "nbformat": 4,
 "nbformat_minor": 2
}
